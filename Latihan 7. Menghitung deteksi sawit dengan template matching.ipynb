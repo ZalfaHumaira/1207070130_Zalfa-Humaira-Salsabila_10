{
 "cells": [
  {
   "attachments": {},
   "cell_type": "markdown",
   "metadata": {},
   "source": [
    "**Latihan 7: Menghitung deteksi sawit dengan template matching**"
   ]
  },
  {
   "cell_type": "code",
   "execution_count": null,
   "metadata": {},
   "outputs": [],
   "source": [
    "# tampilkan kedua gambar\n",
    "from matplotlib import pyplot as plt\n",
    "# panggil dan konversi warna agar sesuai dengan Matplotlib\n",
    "sawit = cv2.imread('sawit.png')\n",
    "sawit = cv2.cvtColor(sawit, cv2.COLOR_BGR2RGB)\n",
    "# panggil dan konversi warna agar sesuai dengan Matplotlib\n",
    "kebun_sawit = cv2.imread('kelompoksawit.jpg')\n",
    "kebun_sawit = cv2.cvtColor(kebun_sawit, cv2.COLOR_BGR2RGB)\n",
    "plt.subplot(121),plt.imshow(sawit), plt.title('sawit')\n",
    "plt.subplot(122),plt.imshow(kebun_sawit), plt.title('kebun sawit')\n",
    "plt.show()"
   ]
  },
  {
   "cell_type": "code",
   "execution_count": null,
   "metadata": {},
   "outputs": [],
   "source": [
    "import cv2\n",
    "import numpy as np\n",
    "from google.colab.patches import cv2_imshow\n",
    "## membaca gambar utuh untuk dicari\n",
    "img_rgb = cv2.imread('kelompoksawit.jpg')\n",
    "img_gray = cv2.cvtColor(img_rgb, cv2.COLOR_BGR2GRAY)\n",
    "## membaca template\n",
    "template = cv2.imread('sawit.jpg',0)\n",
    "## ukuran template. ukuran ini akan digunakan untuk menggambar kotak\n",
    "w, h = template.shape[::-1]\n",
    "# menggunakan metode COEFF-NORMALIZED\n",
    "res = cv2.matchTemplate(img_gray,template,cv2.TM_CCOEFF_NORMED)\n",
    "# Nilai threshold atau ambang batas deteksi kemiripan titik.\n",
    "# Lakukan eksperimen dengan merubah nilai ini\n",
    "threshold = 0.15\n",
    "loc = np.where(res >= threshold)\n",
    "## membuat array kosong untuk menyimpan lokasi-lokasi dari hasil deteksi\n",
    "lspoint=[]\n",
    "lspoint2=[]\n",
    "count = 0 # untuk menyimpan jumlah matching yang ditemukan\n",
    "for pt in zip(*loc[::-1]):\n",
    "## jika sudah ada, skip lokasi tersebut\n",
    "if pt[0] not in lspoint and pt[1] not in lspoint2:\n",
    "## gambar persegi warna kuning dengan ketebalan dua poin\n",
    "cv2.rectangle(img_rgb, pt, (pt[0] + w, pt[1] + h), (0,255,255), 2)\n",
    "for i in range(((pt[0])-9), ((pt[0])+9),1):\n",
    "## tambahkan koordinat x ke list\n",
    "lspoint.append(i)\n",
    "for k in range(((pt[1])-9), ((pt[1])+9),1):\n",
    "## tambahkan koordinat y ke list\n",
    "lspoint2.append(k)\n",
    "count+=1 ### berapa jumlah matching yang ditemukan?\n",
    "else:\n",
    "continue\n",
    "print (\"Jumlah objek ditemukan \", count)\n",
    "## tampilkan dengan imshow\n",
    "cv2_imshow(img_rgb)"
   ]
  }
 ],
 "metadata": {
  "language_info": {
   "name": "python"
  },
  "orig_nbformat": 4
 },
 "nbformat": 4,
 "nbformat_minor": 2
}
